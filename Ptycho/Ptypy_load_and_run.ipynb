{
 "cells": [
  {
   "cell_type": "markdown",
   "id": "5408e90f-3efd-43e0-95cb-277a9bae9ae7",
   "metadata": {},
   "source": [
    "# Tutorial Ptychographic imaging\n",
    "\n",
    "# Ptychographic phase retrieval using Ptypy\n",
    "\n",
    "### Tutor: Julio C. da Silva (Néel Institute CNRS, Grenoble, France) /  email: julio-cesar.da-silva@neel.cnrs.fr\n",
    "#### Personal webpage: https://sites.google.com/view/jcesardasilva\n",
    "\n",
    "##### Disclaimer: This notebook is intended for educational purposes only and should not be used for professional data analysis. For the latter, there are other more efficient and complete codes available."
   ]
  },
  {
   "cell_type": "markdown",
   "id": "0bc4d28c-782b-4214-ac16-6b372fe9d537",
   "metadata": {},
   "source": [
    "# Ptypy - Ptychography for Python\n",
    "\n",
    "<table class=\"tfo-notebook-buttons\" align=\"center\">\n",
    "\n",
    "  <td>\n",
    "    <a target=\"_blank\" rel=\"noopener noreferrer\"\n",
    "href=\"https://ptycho.github.io/ptypy/index.html\"><img src=\"https://ptycho.github.io/ptypy/_static/logo_100px.png\" width=\"100%\"/></a>\n",
    "  </td>\n",
    "</table>\n",
    "\n",
    "<span style=\"color:blue\"> **For the installation instruction of Ptypy, please click here: [Ptypy installation](https://ptycho.github.io/ptypy/rst/getting_started.html#installation)** </span>"
   ]
  },
  {
   "cell_type": "code",
   "execution_count": null,
   "id": "91a88e9b-9bda-40b1-8ab5-1e6cbd1e6ad7",
   "metadata": {},
   "outputs": [],
   "source": [
    "import numpy as np\n",
    "import ptypy\n",
    "from ptypy import io\n",
    "from ptypy import utils as u"
   ]
  },
  {
   "cell_type": "markdown",
   "id": "03881bad-833d-4b60-b22f-bec293259bab",
   "metadata": {},
   "source": [
    "We create the empty root parameter tree `p`. Then, we set `verbose_level` to `interactive` which is adapted for Jupyter notebooks since it gives a more condensed user output. "
   ]
  },
  {
   "cell_type": "code",
   "execution_count": null,
   "id": "f0508a82-508d-460f-9a17-bfebc582f590",
   "metadata": {},
   "outputs": [],
   "source": [
    "## General parameter container\n",
    "p = u.Param()\n",
    "p.verbose_level = \"interactive\" # \"info\"\t\t\t\t\t\t## Verbosity level"
   ]
  },
  {
   "cell_type": "markdown",
   "id": "f5cb5ebd-bc07-4d5f-a250-c182e469dc2d",
   "metadata": {},
   "source": [
    "Now we need to create the subtree for input/output related paramters. For this particular example, we don't save any file and turn off autoplotting"
   ]
  },
  {
   "cell_type": "code",
   "execution_count": null,
   "id": "0f6830bc-da5f-4e1f-8cc7-6116ec2b9f6d",
   "metadata": {},
   "outputs": [],
   "source": [
    "p.run = \"SiemensStar\"\t\t\t\t\t\t## Reconstruction identifier\n",
    "## Global parameters for I/O\n",
    "p.io = u.Param()\n",
    "p.io.home = \"./\" \t\t\t\t\t\t## Base directory for all I/O\n",
    "p.io.rfile = \"recons/%(run)s/%(run)s_%(engine)s.ptyr\" ## Reconstruction file name (or format string)\n",
    "p.io.autosave = u.Param(active=False)  ## Auto-save options\n",
    "p.io.autoplot = u.Param(active=False)  ## Plotting client parameters\n",
    "#p.io.interaction = u.Param(active=False)\n",
    "p.io.interaction = u.Param(active=True)\n",
    "p.io.interaction.server = u.Param()\n",
    "p.io.interaction.server.port = 5580\n",
    "p.io.interaction.server.address = \"tcp://127.0.0.1\""
   ]
  },
  {
   "cell_type": "markdown",
   "id": "7c03c43c-f902-4ad4-b43f-e846505cd906",
   "metadata": {},
   "source": [
    "Let's define the subtree for the scan parameters"
   ]
  },
  {
   "cell_type": "code",
   "execution_count": null,
   "id": "4f064fb0-f335-4905-8bbd-56e9dc4c1759",
   "metadata": {},
   "outputs": [],
   "source": [
    "## Scan parameters\n",
    "p.scans = u.Param() ## param container for instances of scan parameters\n",
    "p.scans.FAMEPIX = u.Param()\n",
    "p.scans.FAMEPIX.name = \"Full\" #\"BlockFull\"  or \"Full\"\n",
    "p.scans.FAMEPIX.propagation = \"farfield\"  ## Propagation type: \"nearfield\" or \"farfield\""
   ]
  },
  {
   "cell_type": "markdown",
   "id": "7ae6619a-9086-40e2-b109-53c62efac0c4",
   "metadata": {},
   "source": [
    "Now, we declared where the data is"
   ]
  },
  {
   "cell_type": "code",
   "execution_count": null,
   "id": "8140144c-51b1-44d4-a218-5b5068508725",
   "metadata": {},
   "outputs": [],
   "source": [
    "# Data parameters\n",
    "p.scans.FAMEPIX.data= u.Param() ## Data preparation parameters\n",
    "p.scans.FAMEPIX.data.name = \"PtydScan\" ## Name of the PtyScan subclass to use\n",
    "p.scans.FAMEPIX.data.source = \"file\" ## Describes where to get the data from.\n",
    "p.scans.FAMEPIX.data.dfile = \"SiemensStar.ptyd\" ## Prepared data file path"
   ]
  },
  {
   "cell_type": "markdown",
   "id": "590f9ea5-0a94-44ac-8c63-499fc93036c1",
   "metadata": {},
   "source": [
    "We also have to tell how the illumination is"
   ]
  },
  {
   "cell_type": "code",
   "execution_count": null,
   "id": "7cbd0645-f497-4438-9572-2b997a88e03b",
   "metadata": {},
   "outputs": [],
   "source": [
    "### calculation of the effective distance (Fresnel Scaling Theorem)\n",
    "ptydfile=io.h5read('SiemensStar.ptyd','info')['info']\n",
    "sx = ptydfile['sx']\n",
    "focus_position = ptydfile['sx0']\n",
    "z12 = ptydfile['distance']\n",
    "z1 = np.abs(sx-focus_position)\n",
    "z2 = z12-z1\n",
    "dist_parallel = z1*z2/z12\n",
    "\n",
    "# Illumination parameters\n",
    "p.scans.FAMEPIX.illumination = u.Param()\n",
    "p.scans.FAMEPIX.illumination.aperture = u.Param() ## Beam aperture parameters\n",
    "p.scans.FAMEPIX.illumination.aperture.form = \"rect\" ## One of None, 'rect' or 'circ'\n",
    "p.scans.FAMEPIX.illumination.aperture.size = 120e-6 ## Aperture width or diameter\n",
    "p.scans.FAMEPIX.illumination.propagation=u.Param() ## Parameters for propagation \n",
    "p.scans.FAMEPIX.illumination.propagation.parallel = dist_parallel\n",
    "p.scans.FAMEPIX.illumination.propagation.focussed = 0.1 \n",
    "p.scans.FAMEPIX.illumination.model = None\n",
    "p.scans.FAMEPIX.illumination.recon = None"
   ]
  },
  {
   "cell_type": "markdown",
   "id": "03574ef7-801b-4ce2-b0c5-98d1b8b25e1f",
   "metadata": {},
   "source": [
    "Since the illumination can suffer from partial coherence effects, we decompose the probe in orthogonal modes to try to take the effects into account"
   ]
  },
  {
   "cell_type": "code",
   "execution_count": null,
   "id": "28a242cb-5f69-4d36-8aac-c7ea94050618",
   "metadata": {},
   "outputs": [],
   "source": [
    "p.scans.FAMEPIX.illumination.diversity = u.Param()\n",
    "p.scans.FAMEPIX.illumination.diversity.power = 0.1\n",
    "p.scans.FAMEPIX.illumination.diversity.noise = (1,2)\n",
    "## coherence parameters\n",
    "p.scans.FAMEPIX.coherence = u.Param()\n",
    "p.scans.FAMEPIX.coherence.num_probe_modes = 3 ## Number of probe modes\n",
    "p.scans.FAMEPIX.coherence.num_object_modes = 1 ## Number of object modes"
   ]
  },
  {
   "cell_type": "markdown",
   "id": "0468e475-f6bd-41df-aef0-08a0ea5760c6",
   "metadata": {},
   "source": [
    "We can also initialize the object function"
   ]
  },
  {
   "cell_type": "code",
   "execution_count": null,
   "id": "12545563-b8fd-422b-8a0e-810962382e1d",
   "metadata": {},
   "outputs": [],
   "source": [
    "## Object initiation parameters\n",
    "p.scans.FAMEPIX.sample= u.Param() ## initial object modelization parameters\n",
    "p.scans.FAMEPIX.sample.model = None ## None, 'recon', 'stxm'\n",
    "p.scans.FAMEPIX.sample.recon = None\n",
    "p.scans.FAMEPIX.sample.fill = 1.0 + 1j * 0.0 # Default fill value"
   ]
  },
  {
   "cell_type": "markdown",
   "id": "9f189ef7-15a0-4aff-b53b-36f3d2b7030d",
   "metadata": {},
   "source": [
    "Finally, we need to define one (or more) reconstruction engines which specify which ptychographic algorithm(s) should be used in the reconstruction. "
   ]
  },
  {
   "cell_type": "code",
   "execution_count": null,
   "id": "d057c6d2-5841-4545-9e90-04b35d39a38d",
   "metadata": {},
   "outputs": [],
   "source": [
    "p.engines = u.Param()\n",
    "\n",
    "## First engine = DM\n",
    "p.engines.engine00 = u.Param()\n",
    "p.engines.engine00.name = \"DM\"   ## Engine name\n",
    "p.engines.engine00.numiter = 100         \n",
    "p.engines.engine00.numiter_contiguous = 1       \n",
    "p.engines.engine00.probe_support = None        \n",
    "p.engines.engine00.alpha = 1                     \n",
    "p.engines.engine00.probe_update_start = 2         \n",
    "p.engines.engine00.update_object_first = True     \n",
    "p.engines.engine00.overlap_converge_factor = 0.02 \n",
    "p.engines.engine00.overlap_max_iterations = 100   \n",
    "p.engines.engine00.probe_inertia = 0.01           \n",
    "p.engines.engine00.object_inertia = 0.1           \n",
    "p.engines.engine00.fourier_relax_factor = 0.02    \n",
    "p.engines.engine00.obj_smooth_std = 5            \n",
    "p.engines.engine00.clip_object = (0.,1.2)    \n",
    "\n",
    "## Second engine = ML\n",
    "p.engines.engine01 = u.Param()  \n",
    "p.engines.engine01.name = 'ML'  ## Engine name\n",
    "p.engines.engine01.numiter = 30         \n",
    "p.engines.engine01.numiter_contiguous = 1        \n",
    "p.engines.engine01.ML_type = \"gaussian\"             \n",
    "p.engines.engine01.probe_support = None          \n",
    "p.engines.engine01.floating_intensities = True   \n",
    "p.engines.engine01.intensity_renormalization = 1 \n",
    "p.engines.engine01.smooth_gradient = 1          \n",
    "p.engines.engine01.scale_precond = True          \n",
    "p.engines.engine01.probe_update_start = 2        "
   ]
  },
  {
   "cell_type": "markdown",
   "id": "003cb472-dbc9-4f8a-b346-48e025c4e19b",
   "metadata": {},
   "source": [
    "At the end of our script (notebook) we can create a `ptypy.core.Ptycho` object by passing the parameter tree `p` and `level=5` which initialises everything and starts the reconstruction."
   ]
  },
  {
   "cell_type": "code",
   "execution_count": null,
   "id": "4e3d3ead-7be4-4e20-a00a-b9fa5e3c323b",
   "metadata": {},
   "outputs": [],
   "source": [
    "P = ptypy.core.Ptycho(p,level=5)"
   ]
  },
  {
   "cell_type": "code",
   "execution_count": null,
   "id": "af52bfd7-58cc-4a06-8258-548783e2ab26",
   "metadata": {},
   "outputs": [],
   "source": [
    "import os\n",
    "import ptypy.utils.plot_client as pc\n",
    "ptyr_filename = os.path.join(p.io.home, \"recons/SiemensStar/SiemensStar_ML.ptyr\")\n",
    "#layout = pc.TEMPLATES[\"weak\"]\n",
    "layout = pc.TEMPLATES[\"jupyter\"]\n",
    "fig = pc.figure_from_ptyr(ptyr_filename, pars=layout)\n",
    "#fig = pc.figure_from_ptycho(P, pars=layout)"
   ]
  },
  {
   "cell_type": "markdown",
   "id": "ac36743f-e71c-4c9e-bc3a-300cd006ab51",
   "metadata": {},
   "source": [
    "### Done. You have finished the job!"
   ]
  },
  {
   "cell_type": "markdown",
   "id": "424f35bd-792c-4bbc-89a5-a9959e6b3c48",
   "metadata": {},
   "source": [
    "### If you have used mixed-state algorithms, you can proceed\n",
    "As we can see above, the mixed-state algorithms in PtyPy provide  different probe modes but without constraining them into any basis. However, in order to interpret something from these probe modes we need to provide a basis with the most common choice being the enforcement of a orthonormal relationship between each mode. Ptypy’s ortho function will orthonormalise our probe modes that we can extract from the probe"
   ]
  },
  {
   "cell_type": "code",
   "execution_count": null,
   "id": "bdea0243-d403-41c1-8286-8af6736fed65",
   "metadata": {},
   "outputs": [],
   "source": [
    "e,v = ptypy.utils.ortho(P.probe.S[\"SFAMEPIXG00\"].data)"
   ]
  },
  {
   "cell_type": "markdown",
   "id": "0eb74498-e0f1-4e61-a5fc-c8a9392b909d",
   "metadata": {},
   "source": [
    "and returns the eigenvalues `e` and eigenvectors `v`. We can now use look at the orthonormalised probe modes and their corresponding relative power by making a matplotlib figure"
   ]
  },
  {
   "cell_type": "code",
   "execution_count": null,
   "id": "1540b86e-a55b-45d3-9a23-e099dcf36f92",
   "metadata": {},
   "outputs": [],
   "source": [
    "import matplotlib.pyplot as plt\n",
    "fig, axes = plt.subplots(ncols=3, nrows=2,figsize=(15,6))\n",
    "for i in range(3):\n",
    "    axes[0,i].set_title(\"{:.2f} %\".format(e[i]*100.))\n",
    "    ax1 = ptypy.utils.PtyAxis(axes[0,i],channel=\"c\")\n",
    "    ax1.set_data(v[i])\n",
    "    ax2 = ptypy.utils.PtyAxis(axes[1,i],channel=\"a\")\n",
    "    ax2.set_data(v[i])"
   ]
  }
 ],
 "metadata": {
  "kernelspec": {
   "display_name": "Python 3 (ipykernel)",
   "language": "python",
   "name": "python3"
  },
  "language_info": {
   "codemirror_mode": {
    "name": "ipython",
    "version": 3
   },
   "file_extension": ".py",
   "mimetype": "text/x-python",
   "name": "python",
   "nbconvert_exporter": "python",
   "pygments_lexer": "ipython3",
   "version": "3.11.9"
  }
 },
 "nbformat": 4,
 "nbformat_minor": 5
}
