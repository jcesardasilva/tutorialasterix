{
 "cells": [
  {
   "cell_type": "markdown",
   "id": "332837f1-a308-41c8-846b-e0a07aaea13d",
   "metadata": {},
   "source": [
    "# Tutorial Ptychographic imaging\n",
    "\n",
    "# Ptychographic phase retrieval using Ptypy\n",
    "\n",
    "### Tutor: Julio C. da Silva (Néel Institute CNRS, Grenoble, France) /  email: julio-cesar.da-silva@neel.cnrs.fr\n",
    "#### Personal webpage: https://sites.google.com/view/jcesardasilva\n",
    "\n",
    "##### Disclaimer: This notebook is intended for educational purposes only and should not be used for professional data analysis. For the latter, there are other more efficient and complete codes available."
   ]
  },
  {
   "cell_type": "markdown",
   "id": "77d75828-e48e-45e9-bd2f-239d3b47a05e",
   "metadata": {},
   "source": [
    "# Ptypy - Ptychography for Python\n",
    "\n",
    "<table class=\"tfo-notebook-buttons\" align=\"center\">\n",
    "\n",
    "  <td>\n",
    "    <a target=\"_blank\" rel=\"noopener noreferrer\"\n",
    "href=\"https://ptycho.github.io/ptypy/index.html\"><img src=\"https://ptycho.github.io/ptypy/_static/logo_100px.png\" width=\"100%\"/></a>\n",
    "  </td>\n",
    "</table>\n",
    "\n",
    "<span style=\"color:blue\"> **For the installation instruction of Ptypy, please click here: [Ptypy installation](https://ptycho.github.io/ptypy/rst/getting_started.html#installation)** </span>"
   ]
  },
  {
   "cell_type": "markdown",
   "id": "e7946abc-9810-4ab4-8838-e0b52bca007e",
   "metadata": {},
   "source": [
    "# Live Plot visualization\n",
    "## Running the plot client in this notebook while the calculations are being performed on this computer"
   ]
  },
  {
   "cell_type": "code",
   "execution_count": null,
   "id": "588165a3-d76d-46ca-9541-4125cc689edc",
   "metadata": {},
   "outputs": [],
   "source": [
    "import ptypy\n",
    "\n",
    "# Client parameters\n",
    "client = ptypy.utils.Param()\n",
    "client.port = 5580\n",
    "client.address = \"tcp://127.0.0.1\"\n",
    "\n",
    "# Create instance of plotclient\n",
    "pc = ptypy.utils.PlotClient(client)\n",
    "\n",
    "# start listening\n",
    "pc.start()"
   ]
  },
  {
   "cell_type": "code",
   "execution_count": null,
   "id": "59472b3d-9713-49f3-8848-816d33a55fa9",
   "metadata": {},
   "outputs": [],
   "source": [
    "# Refresh this cell multiple time \n",
    "# to see updates on the reconstruction\n",
    "# while the script is running in a separate process\n",
    "layout = ptypy.utils.plot_client.TEMPLATES[\"jupyter\"]\n",
    "plotter = ptypy.utils.MPLplotter(pars=layout)\n",
    "initialised = False\n",
    "if (pc.status == pc.DATA):\n",
    "    plotter.pr, plotter.ob, runtime = pc.get_data()\n",
    "    plotter.runtime.update(runtime)\n",
    "    if not initialised:\n",
    "        plotter.update_plot_layout()\n",
    "    plotter.plot_all()\n",
    "    plotter.draw()\n",
    "    plotter.plot_fig"
   ]
  },
  {
   "cell_type": "code",
   "execution_count": null,
   "id": "8ce9e5d4-0305-48a7-98a2-a12a141a4456",
   "metadata": {},
   "outputs": [],
   "source": []
  }
 ],
 "metadata": {
  "kernelspec": {
   "display_name": "Python 3 (ipykernel)",
   "language": "python",
   "name": "python3"
  },
  "language_info": {
   "codemirror_mode": {
    "name": "ipython",
    "version": 3
   },
   "file_extension": ".py",
   "mimetype": "text/x-python",
   "name": "python",
   "nbconvert_exporter": "python",
   "pygments_lexer": "ipython3",
   "version": "3.11.9"
  }
 },
 "nbformat": 4,
 "nbformat_minor": 5
}
